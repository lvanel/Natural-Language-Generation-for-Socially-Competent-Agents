{
 "cells": [
  {
   "cell_type": "code",
   "execution_count": 1,
   "metadata": {},
   "outputs": [
    {
     "name": "stderr",
     "output_type": "stream",
     "text": [
      "/home/lvanel/anaconda3/envs/lo/lib/python3.9/site-packages/tqdm/auto.py:21: TqdmWarning: IProgress not found. Please update jupyter and ipywidgets. See https://ipywidgets.readthedocs.io/en/stable/user_install.html\n",
      "  from .autonotebook import tqdm as notebook_tqdm\n"
     ]
    }
   ],
   "source": [
    "import pandas as pd\n",
    "from datasets import load_dataset\n",
    "from tqdm import tqdm"
   ]
  },
  {
   "cell_type": "code",
   "execution_count": 2,
   "metadata": {},
   "outputs": [
    {
     "data": {
      "text/plain": [
       "{0: 'sad', 1: 'fear', 2: 'anger', 3: 'neutral', 4: 'surprise', 5: 'joy'}"
      ]
     },
     "execution_count": 2,
     "metadata": {},
     "output_type": "execute_result"
    }
   ],
   "source": [
    "from transformers import AutoTokenizer,AutoModelForSequenceClassification\n",
    "import numpy as np\n",
    "\n",
    "model_name = \"astrosbd/french_emotion_camembert\" \n",
    "tokenizer = AutoTokenizer.from_pretrained(model_name) \n",
    "model = AutoModelForSequenceClassification.from_pretrained(model_name)\n",
    "config = model.config\n",
    "\n",
    "config.id2label"
   ]
  },
  {
   "cell_type": "code",
   "execution_count": 3,
   "metadata": {},
   "outputs": [
    {
     "name": "stderr",
     "output_type": "stream",
     "text": [
      "Generating train split: 161 examples [00:00, 23551.18 examples/s]\n"
     ]
    },
    {
     "name": "stdout",
     "output_type": "stream",
     "text": [
      "6\n"
     ]
    },
    {
     "name": "stderr",
     "output_type": "stream",
     "text": [
      "100%|██████████| 161/161 [00:00<00:00, 3241.67it/s]"
     ]
    },
    {
     "name": "stdout",
     "output_type": "stream",
     "text": [
      "joie\n",
      "dict_keys(['tristesse', 'peur', 'colère', 'neutre', 'surprise', 'joie'])\n"
     ]
    },
    {
     "name": "stderr",
     "output_type": "stream",
     "text": [
      "\n"
     ]
    }
   ],
   "source": [
    "dataset = load_dataset(\"csv\", data_files={\"train\":\"emotions.csv\"})\n",
    "cols = ['tristesse', 'peur', 'colère', 'neutre', 'surprise', 'joie']\n",
    "\n",
    "print(len(cols))\n",
    "\n",
    "def one_hot_encode(ds):\n",
    "    dialogs = []\n",
    "    ohe_dic= {x:[] for x in cols}\n",
    "    for i in tqdm(range(len(ds))):\n",
    "        text = ds['text'][i]\n",
    "        dialogs.append(text)\n",
    "        labels = ds['emotion'][i]\n",
    "\n",
    "        if i == 0:\n",
    "            print(labels)\n",
    "            print(ohe_dic.keys())\n",
    "\n",
    "        for k in ohe_dic.keys():\n",
    "            if k in labels:\n",
    "                ohe_dic[k].append(1)\n",
    "            \n",
    "            else:\n",
    "                ohe_dic[k].append(0)\n",
    "\n",
    "    \n",
    "    ohe_dic['input'] = dialogs\n",
    "\n",
    "    return ohe_dic\n",
    "\n",
    "\n",
    "ohe_dic = one_hot_encode(dataset['train'])\n",
    "df = pd.DataFrame(ohe_dic)\n"
   ]
  },
  {
   "cell_type": "code",
   "execution_count": 4,
   "metadata": {},
   "outputs": [],
   "source": [
    "test = df.iloc[:40]\n",
    "train = df.iloc[40:]"
   ]
  },
  {
   "cell_type": "code",
   "execution_count": 5,
   "metadata": {},
   "outputs": [],
   "source": [
    "test.to_csv('emotions_ohe_test.csv', index=False, encoding='UTF-8')\n",
    "train.to_csv('emotions_ohe_train.csv', index=False, encoding='UTF-8')"
   ]
  }
 ],
 "metadata": {
  "kernelspec": {
   "display_name": "lo",
   "language": "python",
   "name": "python3"
  },
  "language_info": {
   "codemirror_mode": {
    "name": "ipython",
    "version": 3
   },
   "file_extension": ".py",
   "mimetype": "text/x-python",
   "name": "python",
   "nbconvert_exporter": "python",
   "pygments_lexer": "ipython3",
   "version": "3.9.21"
  },
  "orig_nbformat": 4
 },
 "nbformat": 4,
 "nbformat_minor": 2
}
